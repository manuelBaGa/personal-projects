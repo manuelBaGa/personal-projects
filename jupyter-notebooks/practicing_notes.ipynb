{
 "cells": [
  {
   "cell_type": "code",
   "execution_count": 13,
   "metadata": {},
   "outputs": [
    {
     "name": "stdout",
     "output_type": "stream",
     "text": [
      "F\n",
      "F\n",
      "E\n",
      "G\n",
      "G\n",
      "D\n",
      "D\n",
      "G\n",
      "B\n",
      "A\n"
     ]
    }
   ],
   "source": [
    "import random\n",
    "\n",
    "number_of_tries = 10\n",
    "notes = {\n",
    "    \"Do\": \"C\",\n",
    "    \"Re\": \"D\",\n",
    "    \"Mi\": \"E\",\n",
    "    \"Fa\": \"F\",\n",
    "    \"Sol\": \"G\",\n",
    "    \"La\": \"A\",\n",
    "    \"Si\": \"B\"\n",
    "}\n",
    "\n",
    "for i in range(10):\n",
    "    print(random.choice(list(notes.values())))"
   ]
  },
  {
   "cell_type": "code",
   "execution_count": null,
   "metadata": {},
   "outputs": [],
   "source": []
  }
 ],
 "metadata": {
  "kernelspec": {
   "display_name": "Python 3",
   "language": "python",
   "name": "python3"
  },
  "language_info": {
   "codemirror_mode": {
    "name": "ipython",
    "version": 3
   },
   "file_extension": ".py",
   "mimetype": "text/x-python",
   "name": "python",
   "nbconvert_exporter": "python",
   "pygments_lexer": "ipython3",
   "version": "3.11.7"
  }
 },
 "nbformat": 4,
 "nbformat_minor": 2
}
