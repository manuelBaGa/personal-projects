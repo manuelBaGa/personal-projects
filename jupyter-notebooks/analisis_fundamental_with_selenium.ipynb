{
 "cells": [
  {
   "cell_type": "code",
   "execution_count": 14,
   "id": "0dc515e2-52df-4629-bad4-d136ca949e43",
   "metadata": {},
   "outputs": [],
   "source": [
    "import yfinance as yf\n",
    "import pandas as pd\n",
    "from selenium.webdriver.chrome.webdriver import WebDriver\n",
    "from selenium.webdriver.common.by import By\n",
    "import time\n",
    "\n"
   ]
  },
  {
   "cell_type": "code",
   "execution_count": 9,
   "id": "07549939",
   "metadata": {},
   "outputs": [],
   "source": [
    "driver = WebDriver()\n",
    "driver.get(\"https://finance.yahoo.com/\")"
   ]
  },
  {
   "cell_type": "code",
   "execution_count": 17,
   "id": "c8374f7a",
   "metadata": {},
   "outputs": [],
   "source": [
    "driver.find_element(By.XPATH, \"//input[@id='ybar-sbq']\").send_keys('XLK')\n",
    "time.sleep(1)\n",
    "driver.find_element(By.XPATH, \"//button[@id='ybar-search']\").click()\n"
   ]
  },
  {
   "cell_type": "code",
   "execution_count": 8,
   "id": "6637e20b",
   "metadata": {},
   "outputs": [],
   "source": [
    "driver.close()"
   ]
  },
  {
   "cell_type": "raw",
   "id": "d35030fd-6fbc-4700-af00-2c1ce8bdfa81",
   "metadata": {},
   "source": [
    "ratiosNames=['currentRatio','quickRatio','cashRatio','debtToEquity','returnOnEquity','profitMargins','trailingPE',\n",
    "       'priceToSalesTrailing12Months','priceToBook']\n",
    "ratiosValues=[stockInf['currentRatio'], stockInf['quickRatio'], cashRatio, stockInf['debtToEquity']/100, \n",
    "      stockInf['returnOnEquity'], stockInf['profitMargins'], stockInf['trailingPE'], \n",
    "      stockInf['priceToSalesTrailing12Months'], stockInf['priceToBook']]"
   ]
  },
  {
   "cell_type": "code",
   "execution_count": 3,
   "id": "5fce5413-d2f4-42f0-94c8-04096e5f2f8d",
   "metadata": {},
   "outputs": [
    {
     "name": "stdout",
     "output_type": "stream",
     "text": [
      "Trying with AMZN Failed due to: 'Total Current Assets'\n",
      "Trying with WMT Failed due to: 'Total Current Assets'\n",
      "Trying with MSFT Failed due to: 'Total Current Assets'\n",
      "Trying with GOOGL Failed due to: 'Total Current Assets'\n"
     ]
    }
   ],
   "source": [
    "tickers=['AMZN','WMT','MSFT','GOOGL']\n",
    "ratiosValues=[]\n",
    "ratiosNames=['currentRatio','quickRatio','cashRatio','debtToEquity','returnOnEquity','profitMargins','trailingPE',\n",
    "       'priceToSalesTrailing12Months','priceToBook']\n",
    "for element in tickers:\n",
    "    stock=yf.Ticker(element)\n",
    "    stockInf=stock.info\n",
    "    stockBalance=stock.balancesheet.iloc[:, 0].to_dict()\n",
    "    \n",
    "    try:\n",
    "        print(f\"Trying with {element}\",end=\" \")\n",
    "        cashRatio=stockBalance['Total Current Assets']/stockBalance['Total Current Liabilities']\n",
    "        ratiosValues.append([ \\\n",
    "                stockInf['currentRatio'], \\\n",
    "                stockInf['quickRatio'], \\\n",
    "                cashRatio, \\\n",
    "                stockInf['debtToEquity']/100, \\\n",
    "                stockInf['returnOnEquity'], \\\n",
    "                stockInf['profitMargins'], \\\n",
    "                stockInf['trailingPE'], \\\n",
    "                stockInf['priceToSalesTrailing12Months'],  \n",
    "                stockInf['priceToBook'] \\\n",
    "        ])\n",
    "        print(\"Success\")\n",
    "    except Exception as excep:\n",
    "        print(\"Failed due to:\", excep )\n",
    "    "
   ]
  },
  {
   "cell_type": "code",
   "execution_count": 3,
   "id": "0ced1e86-1ac3-49fb-95d9-22b3ca561eab",
   "metadata": {},
   "outputs": [
    {
     "data": {
      "text/html": [
       "<div>\n",
       "<style scoped>\n",
       "    .dataframe tbody tr th:only-of-type {\n",
       "        vertical-align: middle;\n",
       "    }\n",
       "\n",
       "    .dataframe tbody tr th {\n",
       "        vertical-align: top;\n",
       "    }\n",
       "\n",
       "    .dataframe thead th {\n",
       "        text-align: right;\n",
       "    }\n",
       "</style>\n",
       "<table border=\"1\" class=\"dataframe\">\n",
       "  <thead>\n",
       "    <tr style=\"text-align: right;\">\n",
       "      <th></th>\n",
       "      <th>currentRatio</th>\n",
       "      <th>quickRatio</th>\n",
       "      <th>cashRatio</th>\n",
       "      <th>debtToEquity</th>\n",
       "      <th>returnOnEquity</th>\n",
       "      <th>profitMargins</th>\n",
       "      <th>trailingPE</th>\n",
       "      <th>priceToSalesTrailing12Months</th>\n",
       "      <th>priceToBook</th>\n",
       "    </tr>\n",
       "  </thead>\n",
       "  <tbody>\n",
       "    <tr>\n",
       "      <th>TMUS</th>\n",
       "      <td>0.871</td>\n",
       "      <td>0.659</td>\n",
       "      <td>1.100539</td>\n",
       "      <td>1.57363</td>\n",
       "      <td>0.05044</td>\n",
       "      <td>0.04207</td>\n",
       "      <td>45.078950</td>\n",
       "      <td>1.879830</td>\n",
       "      <td>2.188778</td>\n",
       "    </tr>\n",
       "    <tr>\n",
       "      <th>VZ</th>\n",
       "      <td>0.974</td>\n",
       "      <td>0.799</td>\n",
       "      <td>1.376551</td>\n",
       "      <td>2.28038</td>\n",
       "      <td>0.31167</td>\n",
       "      <td>0.16419</td>\n",
       "      <td>9.902255</td>\n",
       "      <td>1.647358</td>\n",
       "      <td>2.830888</td>\n",
       "    </tr>\n",
       "    <tr>\n",
       "      <th>T</th>\n",
       "      <td>0.701</td>\n",
       "      <td>0.511</td>\n",
       "      <td>0.819824</td>\n",
       "      <td>1.15572</td>\n",
       "      <td>0.01368</td>\n",
       "      <td>0.00665</td>\n",
       "      <td>192.790710</td>\n",
       "      <td>1.023040</td>\n",
       "      <td>1.084274</td>\n",
       "    </tr>\n",
       "  </tbody>\n",
       "</table>\n",
       "</div>"
      ],
      "text/plain": [
       "      currentRatio  quickRatio  cashRatio  debtToEquity  returnOnEquity  \\\n",
       "TMUS         0.871       0.659   1.100539       1.57363         0.05044   \n",
       "VZ           0.974       0.799   1.376551       2.28038         0.31167   \n",
       "T            0.701       0.511   0.819824       1.15572         0.01368   \n",
       "\n",
       "      profitMargins  trailingPE  priceToSalesTrailing12Months  priceToBook  \n",
       "TMUS        0.04207   45.078950                      1.879830     2.188778  \n",
       "VZ          0.16419    9.902255                      1.647358     2.830888  \n",
       "T           0.00665  192.790710                      1.023040     1.084274  "
      ]
     },
     "execution_count": 3,
     "metadata": {},
     "output_type": "execute_result"
    }
   ],
   "source": [
    "pd.DataFrame(ratiosValues,columns=ratiosNames,index=tickers)"
   ]
  }
 ],
 "metadata": {
  "kernelspec": {
   "display_name": "Python 3 (ipykernel)",
   "language": "python",
   "name": "python3"
  },
  "language_info": {
   "codemirror_mode": {
    "name": "ipython",
    "version": 3
   },
   "file_extension": ".py",
   "mimetype": "text/x-python",
   "name": "python",
   "nbconvert_exporter": "python",
   "pygments_lexer": "ipython3",
   "version": "3.11.7"
  }
 },
 "nbformat": 4,
 "nbformat_minor": 5
}
