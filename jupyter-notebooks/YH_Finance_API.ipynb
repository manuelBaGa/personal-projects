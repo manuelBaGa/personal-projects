{
 "cells": [
  {
   "cell_type": "code",
   "execution_count": 1,
   "id": "1f357535-7abb-421a-8b80-e00f43730cc3",
   "metadata": {},
   "outputs": [],
   "source": [
    "import requests\n",
    "import pandas as pd\n",
    "import pickle\n",
    "from statistics import mean\n",
    "import os\n",
    "import json\n",
    "import yfinance as yf"
   ]
  },
  {
   "cell_type": "code",
   "execution_count": 2,
   "id": "276b1829-bc54-4163-9c81-04cd18ce6660",
   "metadata": {},
   "outputs": [],
   "source": [
    "def get_all_ratios_data (local_address):\n",
    "    ratios_data={}\n",
    "    files=os.listdir(local_address)\n",
    "    \n",
    "    for file in files:\n",
    "        if file[-5:] == '.json' :\n",
    "            with open(local_address+file) as jsonFile:\n",
    "                ratios_data[file[:-5]]=json.load(jsonFile)\n",
    "                jsonFile.close()\n",
    "    \n",
    "    return ratios_data"
   ]
  },
  {
   "cell_type": "code",
   "execution_count": 3,
   "id": "ef7484d7-1e51-4403-a4ff-e6688c502ae6",
   "metadata": {},
   "outputs": [],
   "source": [
    "def get_ratios (ticker):\n",
    "    financials = requests.request(\"GET\", urls['financials'], headers=headers, params={\"symbol\":ticker})\n",
    "    analysis = requests.request(\"GET\", urls['analysis'], headers=headers, params={\"symbol\":ticker})\n",
    "    statistics = requests.request(\"GET\", urls['statistics'], headers=headers, params={\"symbol\":ticker})\n",
    "\n",
    "    totalCurrentAssets=financials.json()['balanceSheetHistory']['balanceSheetStatements'][-1]['totalCurrentAssets']['raw']\n",
    "    totalCurrentLiabilities=financials.json()['balanceSheetHistory']['balanceSheetStatements'][-1]['totalCurrentLiabilities']['raw']\n",
    "    cashRatio=totalCurrentAssets/totalCurrentLiabilities\n",
    "\n",
    "    ratios=[\n",
    "            analysis.json()['financialData']['currentRatio']['raw'],\n",
    "            analysis.json()['financialData']['quickRatio']['raw'],\n",
    "            cashRatio,\n",
    "            analysis.json()['financialData']['debtToEquity']['raw']/100,\n",
    "            analysis.json()['financialData']['returnOnEquity']['raw'], \n",
    "            analysis.json()['financialData']['profitMargins']['raw'],\n",
    "            analysis.json()['summaryDetail']['trailingPE']['raw'], \n",
    "            analysis.json()['summaryDetail']['priceToSalesTrailing12Months']['raw'],\n",
    "            statistics.json()['defaultKeyStatistics']['priceToBook']['raw'],\n",
    "            financials.json()['price']['regularMarketPrice']['raw']\n",
    "         ]\n",
    "    return ratios"
   ]
  },
  {
   "cell_type": "code",
   "execution_count": 7,
   "id": "f946e363-9c9a-42e5-aa93-c2a11d234e78",
   "metadata": {},
   "outputs": [
    {
     "name": "stdout",
     "output_type": "stream",
     "text": [
      "--->STARTING<---\n",
      "Trying with: WMT Success\n",
      "Trying with: MSFT Success\n",
      "Trying with: GOOGL Success\n",
      "--->FINISHED<---\n"
     ]
    }
   ],
   "source": [
    "tickers=['WMT','MSFT','GOOGL']\n",
    "\n",
    "urls = { \"financials\":\"https://yh-finance.p.rapidapi.com/stock/v2/get-financials\",\n",
    "         \"analysis\" : \"https://yh-finance.p.rapidapi.com/stock/v2/get-analysis\",\n",
    "        \"statistics\" : \"https://yh-finance.p.rapidapi.com/stock/v3/get-statistics\"\n",
    "       }\n",
    "\n",
    "headers = {\n",
    "    'x-rapidapi-host': \"yh-finance.p.rapidapi.com\",\n",
    "    'x-rapidapi-key': \"9824c59e6emsh42f5c3812ff0e1bp147eadjsn0a78eba1599f\"\n",
    "    }\n",
    "\n",
    "ratios_dic={}\n",
    "print(\"--->STARTING<---\")\n",
    "for element in tickers:\n",
    "    try :\n",
    "        print('Trying with: '+element,end=\" \")\n",
    "        ratios_dic[element]=get_ratios(element)\n",
    "        print (\"Success\")\n",
    "    except :\n",
    "        print('Failed')\n",
    "print(\"--->FINISHED<---\")"
   ]
  },
  {
   "cell_type": "raw",
   "id": "d0593466-e0a8-4dee-8cc1-6db2ac23cae5",
   "metadata": {},
   "source": [
    "a_file = open(\"./Data/fundamental_analysis/stocks_ratios.pkl\", \"wb\")\n",
    "pickle.dump(ratios_dic, a_file)\n",
    "a_file.close()"
   ]
  },
  {
   "cell_type": "code",
   "execution_count": 11,
   "id": "fa741d19-7651-43b0-993d-9af0baaff344",
   "metadata": {},
   "outputs": [],
   "source": [
    "data_address='./Data/fundamental_analysis/ticker_ratios/'\n",
    "all_tickers_ratios=get_all_ratios_data(data_address)\n"
   ]
  },
  {
   "cell_type": "code",
   "execution_count": 6,
   "id": "6454cd1c-40ef-477e-9e7a-74979a5731ef",
   "metadata": {},
   "outputs": [
    {
     "ename": "KeyError",
     "evalue": "\"None of [Index(['Current Ratio', 'Quick Ratio', 'Debt\\\\/Equity', 'Inventory Turnover',\\n       'Days Inventory', 'Asset Turnover', 'Return on Equity %',\\n       'Net Margin %'],\\n      dtype='object')] are in the [index]\"",
     "output_type": "error",
     "traceback": [
      "\u001b[0;31m---------------------------------------------------------------------------\u001b[0m",
      "\u001b[0;31mKeyError\u001b[0m                                  Traceback (most recent call last)",
      "Input \u001b[0;32mIn [6]\u001b[0m, in \u001b[0;36m<module>\u001b[0;34m\u001b[0m\n\u001b[1;32m      1\u001b[0m ratios\u001b[38;5;241m=\u001b[39m[\u001b[38;5;124m'\u001b[39m\u001b[38;5;124mCurrent Ratio\u001b[39m\u001b[38;5;124m'\u001b[39m,\u001b[38;5;124m'\u001b[39m\u001b[38;5;124mQuick Ratio\u001b[39m\u001b[38;5;124m'\u001b[39m,\u001b[38;5;124m'\u001b[39m\u001b[38;5;124mDebt\u001b[39m\u001b[38;5;130;01m\\\\\u001b[39;00m\u001b[38;5;124m/Equity\u001b[39m\u001b[38;5;124m'\u001b[39m,\u001b[38;5;124m'\u001b[39m\u001b[38;5;124mInventory Turnover\u001b[39m\u001b[38;5;124m'\u001b[39m,\u001b[38;5;124m'\u001b[39m\u001b[38;5;124mDays Inventory\u001b[39m\u001b[38;5;124m'\u001b[39m,\u001b[38;5;124m'\u001b[39m\u001b[38;5;124mAsset Turnover\u001b[39m\u001b[38;5;124m'\u001b[39m,\u001b[38;5;124m'\u001b[39m\u001b[38;5;124mReturn on Equity \u001b[39m\u001b[38;5;124m%\u001b[39m\u001b[38;5;124m'\u001b[39m,\u001b[38;5;124m'\u001b[39m\u001b[38;5;124mNet Margin \u001b[39m\u001b[38;5;124m%\u001b[39m\u001b[38;5;124m'\u001b[39m]\n\u001b[0;32m----> 2\u001b[0m \u001b[43mpd\u001b[49m\u001b[38;5;241;43m.\u001b[39;49m\u001b[43mDataFrame\u001b[49m\u001b[43m(\u001b[49m\u001b[43mall_tickers_ratios\u001b[49m\u001b[43m)\u001b[49m\u001b[38;5;241;43m.\u001b[39;49m\u001b[43mloc\u001b[49m\u001b[43m[\u001b[49m\u001b[43mratios\u001b[49m\u001b[43m]\u001b[49m\n",
      "File \u001b[0;32m/opt/conda/lib/python3.9/site-packages/pandas/core/indexing.py:967\u001b[0m, in \u001b[0;36m_LocationIndexer.__getitem__\u001b[0;34m(self, key)\u001b[0m\n\u001b[1;32m    964\u001b[0m axis \u001b[38;5;241m=\u001b[39m \u001b[38;5;28mself\u001b[39m\u001b[38;5;241m.\u001b[39maxis \u001b[38;5;129;01mor\u001b[39;00m \u001b[38;5;241m0\u001b[39m\n\u001b[1;32m    966\u001b[0m maybe_callable \u001b[38;5;241m=\u001b[39m com\u001b[38;5;241m.\u001b[39mapply_if_callable(key, \u001b[38;5;28mself\u001b[39m\u001b[38;5;241m.\u001b[39mobj)\n\u001b[0;32m--> 967\u001b[0m \u001b[38;5;28;01mreturn\u001b[39;00m \u001b[38;5;28;43mself\u001b[39;49m\u001b[38;5;241;43m.\u001b[39;49m\u001b[43m_getitem_axis\u001b[49m\u001b[43m(\u001b[49m\u001b[43mmaybe_callable\u001b[49m\u001b[43m,\u001b[49m\u001b[43m \u001b[49m\u001b[43maxis\u001b[49m\u001b[38;5;241;43m=\u001b[39;49m\u001b[43maxis\u001b[49m\u001b[43m)\u001b[49m\n",
      "File \u001b[0;32m/opt/conda/lib/python3.9/site-packages/pandas/core/indexing.py:1194\u001b[0m, in \u001b[0;36m_LocIndexer._getitem_axis\u001b[0;34m(self, key, axis)\u001b[0m\n\u001b[1;32m   1191\u001b[0m     \u001b[38;5;28;01mif\u001b[39;00m \u001b[38;5;28mhasattr\u001b[39m(key, \u001b[38;5;124m\"\u001b[39m\u001b[38;5;124mndim\u001b[39m\u001b[38;5;124m\"\u001b[39m) \u001b[38;5;129;01mand\u001b[39;00m key\u001b[38;5;241m.\u001b[39mndim \u001b[38;5;241m>\u001b[39m \u001b[38;5;241m1\u001b[39m:\n\u001b[1;32m   1192\u001b[0m         \u001b[38;5;28;01mraise\u001b[39;00m \u001b[38;5;167;01mValueError\u001b[39;00m(\u001b[38;5;124m\"\u001b[39m\u001b[38;5;124mCannot index with multidimensional key\u001b[39m\u001b[38;5;124m\"\u001b[39m)\n\u001b[0;32m-> 1194\u001b[0m     \u001b[38;5;28;01mreturn\u001b[39;00m \u001b[38;5;28;43mself\u001b[39;49m\u001b[38;5;241;43m.\u001b[39;49m\u001b[43m_getitem_iterable\u001b[49m\u001b[43m(\u001b[49m\u001b[43mkey\u001b[49m\u001b[43m,\u001b[49m\u001b[43m \u001b[49m\u001b[43maxis\u001b[49m\u001b[38;5;241;43m=\u001b[39;49m\u001b[43maxis\u001b[49m\u001b[43m)\u001b[49m\n\u001b[1;32m   1196\u001b[0m \u001b[38;5;66;03m# nested tuple slicing\u001b[39;00m\n\u001b[1;32m   1197\u001b[0m \u001b[38;5;28;01mif\u001b[39;00m is_nested_tuple(key, labels):\n",
      "File \u001b[0;32m/opt/conda/lib/python3.9/site-packages/pandas/core/indexing.py:1132\u001b[0m, in \u001b[0;36m_LocIndexer._getitem_iterable\u001b[0;34m(self, key, axis)\u001b[0m\n\u001b[1;32m   1129\u001b[0m \u001b[38;5;28mself\u001b[39m\u001b[38;5;241m.\u001b[39m_validate_key(key, axis)\n\u001b[1;32m   1131\u001b[0m \u001b[38;5;66;03m# A collection of keys\u001b[39;00m\n\u001b[0;32m-> 1132\u001b[0m keyarr, indexer \u001b[38;5;241m=\u001b[39m \u001b[38;5;28;43mself\u001b[39;49m\u001b[38;5;241;43m.\u001b[39;49m\u001b[43m_get_listlike_indexer\u001b[49m\u001b[43m(\u001b[49m\u001b[43mkey\u001b[49m\u001b[43m,\u001b[49m\u001b[43m \u001b[49m\u001b[43maxis\u001b[49m\u001b[43m)\u001b[49m\n\u001b[1;32m   1133\u001b[0m \u001b[38;5;28;01mreturn\u001b[39;00m \u001b[38;5;28mself\u001b[39m\u001b[38;5;241m.\u001b[39mobj\u001b[38;5;241m.\u001b[39m_reindex_with_indexers(\n\u001b[1;32m   1134\u001b[0m     {axis: [keyarr, indexer]}, copy\u001b[38;5;241m=\u001b[39m\u001b[38;5;28;01mTrue\u001b[39;00m, allow_dups\u001b[38;5;241m=\u001b[39m\u001b[38;5;28;01mTrue\u001b[39;00m\n\u001b[1;32m   1135\u001b[0m )\n",
      "File \u001b[0;32m/opt/conda/lib/python3.9/site-packages/pandas/core/indexing.py:1330\u001b[0m, in \u001b[0;36m_LocIndexer._get_listlike_indexer\u001b[0;34m(self, key, axis)\u001b[0m\n\u001b[1;32m   1327\u001b[0m ax \u001b[38;5;241m=\u001b[39m \u001b[38;5;28mself\u001b[39m\u001b[38;5;241m.\u001b[39mobj\u001b[38;5;241m.\u001b[39m_get_axis(axis)\n\u001b[1;32m   1328\u001b[0m axis_name \u001b[38;5;241m=\u001b[39m \u001b[38;5;28mself\u001b[39m\u001b[38;5;241m.\u001b[39mobj\u001b[38;5;241m.\u001b[39m_get_axis_name(axis)\n\u001b[0;32m-> 1330\u001b[0m keyarr, indexer \u001b[38;5;241m=\u001b[39m \u001b[43max\u001b[49m\u001b[38;5;241;43m.\u001b[39;49m\u001b[43m_get_indexer_strict\u001b[49m\u001b[43m(\u001b[49m\u001b[43mkey\u001b[49m\u001b[43m,\u001b[49m\u001b[43m \u001b[49m\u001b[43maxis_name\u001b[49m\u001b[43m)\u001b[49m\n\u001b[1;32m   1332\u001b[0m \u001b[38;5;28;01mreturn\u001b[39;00m keyarr, indexer\n",
      "File \u001b[0;32m/opt/conda/lib/python3.9/site-packages/pandas/core/indexes/base.py:5796\u001b[0m, in \u001b[0;36mIndex._get_indexer_strict\u001b[0;34m(self, key, axis_name)\u001b[0m\n\u001b[1;32m   5793\u001b[0m \u001b[38;5;28;01melse\u001b[39;00m:\n\u001b[1;32m   5794\u001b[0m     keyarr, indexer, new_indexer \u001b[38;5;241m=\u001b[39m \u001b[38;5;28mself\u001b[39m\u001b[38;5;241m.\u001b[39m_reindex_non_unique(keyarr)\n\u001b[0;32m-> 5796\u001b[0m \u001b[38;5;28;43mself\u001b[39;49m\u001b[38;5;241;43m.\u001b[39;49m\u001b[43m_raise_if_missing\u001b[49m\u001b[43m(\u001b[49m\u001b[43mkeyarr\u001b[49m\u001b[43m,\u001b[49m\u001b[43m \u001b[49m\u001b[43mindexer\u001b[49m\u001b[43m,\u001b[49m\u001b[43m \u001b[49m\u001b[43maxis_name\u001b[49m\u001b[43m)\u001b[49m\n\u001b[1;32m   5798\u001b[0m keyarr \u001b[38;5;241m=\u001b[39m \u001b[38;5;28mself\u001b[39m\u001b[38;5;241m.\u001b[39mtake(indexer)\n\u001b[1;32m   5799\u001b[0m \u001b[38;5;28;01mif\u001b[39;00m \u001b[38;5;28misinstance\u001b[39m(key, Index):\n\u001b[1;32m   5800\u001b[0m     \u001b[38;5;66;03m# GH 42790 - Preserve name from an Index\u001b[39;00m\n",
      "File \u001b[0;32m/opt/conda/lib/python3.9/site-packages/pandas/core/indexes/base.py:5856\u001b[0m, in \u001b[0;36mIndex._raise_if_missing\u001b[0;34m(self, key, indexer, axis_name)\u001b[0m\n\u001b[1;32m   5854\u001b[0m     \u001b[38;5;28;01mif\u001b[39;00m use_interval_msg:\n\u001b[1;32m   5855\u001b[0m         key \u001b[38;5;241m=\u001b[39m \u001b[38;5;28mlist\u001b[39m(key)\n\u001b[0;32m-> 5856\u001b[0m     \u001b[38;5;28;01mraise\u001b[39;00m \u001b[38;5;167;01mKeyError\u001b[39;00m(\u001b[38;5;124mf\u001b[39m\u001b[38;5;124m\"\u001b[39m\u001b[38;5;124mNone of [\u001b[39m\u001b[38;5;132;01m{\u001b[39;00mkey\u001b[38;5;132;01m}\u001b[39;00m\u001b[38;5;124m] are in the [\u001b[39m\u001b[38;5;132;01m{\u001b[39;00maxis_name\u001b[38;5;132;01m}\u001b[39;00m\u001b[38;5;124m]\u001b[39m\u001b[38;5;124m\"\u001b[39m)\n\u001b[1;32m   5858\u001b[0m not_found \u001b[38;5;241m=\u001b[39m \u001b[38;5;28mlist\u001b[39m(ensure_index(key)[missing_mask\u001b[38;5;241m.\u001b[39mnonzero()[\u001b[38;5;241m0\u001b[39m]]\u001b[38;5;241m.\u001b[39munique())\n\u001b[1;32m   5859\u001b[0m \u001b[38;5;28;01mraise\u001b[39;00m \u001b[38;5;167;01mKeyError\u001b[39;00m(\u001b[38;5;124mf\u001b[39m\u001b[38;5;124m\"\u001b[39m\u001b[38;5;132;01m{\u001b[39;00mnot_found\u001b[38;5;132;01m}\u001b[39;00m\u001b[38;5;124m not in index\u001b[39m\u001b[38;5;124m\"\u001b[39m)\n",
      "\u001b[0;31mKeyError\u001b[0m: \"None of [Index(['Current Ratio', 'Quick Ratio', 'Debt\\\\/Equity', 'Inventory Turnover',\\n       'Days Inventory', 'Asset Turnover', 'Return on Equity %',\\n       'Net Margin %'],\\n      dtype='object')] are in the [index]\""
     ]
    }
   ],
   "source": [
    "ratios=['Current Ratio','Quick Ratio','Debt\\\\/Equity','Inventory Turnover','Days Inventory','Asset Turnover','Return on Equity %','Net Margin %']\n",
    "pd.DataFrame(all_tickers_ratios).loc[ratios]\n"
   ]
  },
  {
   "cell_type": "code",
   "execution_count": 6,
   "id": "09470504-e9fb-4fb9-95da-9bca16828efa",
   "metadata": {},
   "outputs": [
    {
     "data": {
      "text/html": [
       "<div>\n",
       "<style scoped>\n",
       "    .dataframe tbody tr th:only-of-type {\n",
       "        vertical-align: middle;\n",
       "    }\n",
       "\n",
       "    .dataframe tbody tr th {\n",
       "        vertical-align: top;\n",
       "    }\n",
       "\n",
       "    .dataframe thead th {\n",
       "        text-align: right;\n",
       "    }\n",
       "</style>\n",
       "<table border=\"1\" class=\"dataframe\">\n",
       "  <thead>\n",
       "    <tr style=\"text-align: right;\">\n",
       "      <th></th>\n",
       "      <th>MarketAverage</th>\n",
       "    </tr>\n",
       "  </thead>\n",
       "  <tbody>\n",
       "    <tr>\n",
       "      <th>currentRatio</th>\n",
       "      <td>NaN</td>\n",
       "    </tr>\n",
       "    <tr>\n",
       "      <th>quickRatio</th>\n",
       "      <td>NaN</td>\n",
       "    </tr>\n",
       "    <tr>\n",
       "      <th>cashRatio</th>\n",
       "      <td>NaN</td>\n",
       "    </tr>\n",
       "    <tr>\n",
       "      <th>debtToEquity</th>\n",
       "      <td>NaN</td>\n",
       "    </tr>\n",
       "    <tr>\n",
       "      <th>returnOnEquity</th>\n",
       "      <td>NaN</td>\n",
       "    </tr>\n",
       "    <tr>\n",
       "      <th>profitMargins</th>\n",
       "      <td>NaN</td>\n",
       "    </tr>\n",
       "    <tr>\n",
       "      <th>trailingPE</th>\n",
       "      <td>NaN</td>\n",
       "    </tr>\n",
       "    <tr>\n",
       "      <th>priceToSalesTrailing12Months</th>\n",
       "      <td>NaN</td>\n",
       "    </tr>\n",
       "    <tr>\n",
       "      <th>priceToBook</th>\n",
       "      <td>NaN</td>\n",
       "    </tr>\n",
       "    <tr>\n",
       "      <th>regularMarketPrice</th>\n",
       "      <td>NaN</td>\n",
       "    </tr>\n",
       "  </tbody>\n",
       "</table>\n",
       "</div>"
      ],
      "text/plain": [
       "                              MarketAverage\n",
       "currentRatio                            NaN\n",
       "quickRatio                              NaN\n",
       "cashRatio                               NaN\n",
       "debtToEquity                            NaN\n",
       "returnOnEquity                          NaN\n",
       "profitMargins                           NaN\n",
       "trailingPE                              NaN\n",
       "priceToSalesTrailing12Months            NaN\n",
       "priceToBook                             NaN\n",
       "regularMarketPrice                      NaN"
      ]
     },
     "execution_count": 6,
     "metadata": {},
     "output_type": "execute_result"
    }
   ],
   "source": [
    "ratiosNames=['currentRatio','quickRatio','cashRatio','debtToEquity','returnOnEquity','profitMargins','trailingPE',\n",
    "       'priceToSalesTrailing12Months','priceToBook','regularMarketPrice']\n",
    "\n",
    "valid_tickersNames=output.keys()\n",
    "\n",
    "stocks_df=pd.DataFrame(output.values(),columns=ratiosNames,index=valid_tickersNames).transpose()\n",
    "stocks_df['MarketAverage']=stocks_df.mean(axis='columns')\n",
    "stocks_df"
   ]
  },
  {
   "cell_type": "code",
   "execution_count": 7,
   "id": "0feeecb1-8e88-4c5c-b3b8-b5756851653d",
   "metadata": {},
   "outputs": [
    {
     "data": {
      "text/html": [
       "<div>\n",
       "<style scoped>\n",
       "    .dataframe tbody tr th:only-of-type {\n",
       "        vertical-align: middle;\n",
       "    }\n",
       "\n",
       "    .dataframe tbody tr th {\n",
       "        vertical-align: top;\n",
       "    }\n",
       "\n",
       "    .dataframe thead th {\n",
       "        text-align: right;\n",
       "    }\n",
       "</style>\n",
       "<table border=\"1\" class=\"dataframe\">\n",
       "  <thead>\n",
       "    <tr style=\"text-align: right;\">\n",
       "      <th></th>\n",
       "      <th>MarketAverage</th>\n",
       "    </tr>\n",
       "  </thead>\n",
       "  <tbody>\n",
       "    <tr>\n",
       "      <th>trailingPE</th>\n",
       "      <td>NaN</td>\n",
       "    </tr>\n",
       "    <tr>\n",
       "      <th>priceToSalesTrailing12Months</th>\n",
       "      <td>NaN</td>\n",
       "    </tr>\n",
       "    <tr>\n",
       "      <th>priceToBook</th>\n",
       "      <td>NaN</td>\n",
       "    </tr>\n",
       "    <tr>\n",
       "      <th>regularMarketPrice</th>\n",
       "      <td>NaN</td>\n",
       "    </tr>\n",
       "  </tbody>\n",
       "</table>\n",
       "</div>"
      ],
      "text/plain": [
       "                              MarketAverage\n",
       "trailingPE                              NaN\n",
       "priceToSalesTrailing12Months            NaN\n",
       "priceToBook                             NaN\n",
       "regularMarketPrice                      NaN"
      ]
     },
     "execution_count": 7,
     "metadata": {},
     "output_type": "execute_result"
    }
   ],
   "source": [
    "evaluation_df=stocks_df.loc[['trailingPE','priceToSalesTrailing12Months','priceToBook','regularMarketPrice']]\n",
    "evaluation_df"
   ]
  },
  {
   "cell_type": "code",
   "execution_count": 8,
   "id": "43b69a3d-7b91-47e8-ae5c-5fe102c6fab3",
   "metadata": {},
   "outputs": [
    {
     "data": {
      "text/html": [
       "<div>\n",
       "<style scoped>\n",
       "    .dataframe tbody tr th:only-of-type {\n",
       "        vertical-align: middle;\n",
       "    }\n",
       "\n",
       "    .dataframe tbody tr th {\n",
       "        vertical-align: top;\n",
       "    }\n",
       "\n",
       "    .dataframe thead th {\n",
       "        text-align: right;\n",
       "    }\n",
       "</style>\n",
       "<table border=\"1\" class=\"dataframe\">\n",
       "  <thead>\n",
       "    <tr style=\"text-align: right;\">\n",
       "      <th></th>\n",
       "    </tr>\n",
       "  </thead>\n",
       "  <tbody>\n",
       "  </tbody>\n",
       "</table>\n",
       "</div>"
      ],
      "text/plain": [
       "Empty DataFrame\n",
       "Columns: []\n",
       "Index: []"
      ]
     },
     "execution_count": 8,
     "metadata": {},
     "output_type": "execute_result"
    }
   ],
   "source": [
    "results={}\n",
    "for ticker in valid_tickersNames:\n",
    "    value_per_ratio=evaluation_df[ticker]['regularMarketPrice']*evaluation_df['MarketAverage']/evaluation_df[ticker]\n",
    "    results[ticker]={'MarketPrice':evaluation_df[ticker]['regularMarketPrice'],\n",
    "                     'ExpectedValue':mean(list(value_per_ratio[:-1]))\n",
    "                    }\n",
    "pd.DataFrame(results.values(),index=valid_tickersNames)"
   ]
  },
  {
   "cell_type": "code",
   "execution_count": null,
   "id": "dcad0cab-d6bd-4507-9051-95827ca1378b",
   "metadata": {},
   "outputs": [],
   "source": []
  }
 ],
 "metadata": {
  "kernelspec": {
   "display_name": "Python 3 (ipykernel)",
   "language": "python",
   "name": "python3"
  },
  "language_info": {
   "codemirror_mode": {
    "name": "ipython",
    "version": 3
   },
   "file_extension": ".py",
   "mimetype": "text/x-python",
   "name": "python",
   "nbconvert_exporter": "python",
   "pygments_lexer": "ipython3",
   "version": "3.9.10"
  }
 },
 "nbformat": 4,
 "nbformat_minor": 5
}
