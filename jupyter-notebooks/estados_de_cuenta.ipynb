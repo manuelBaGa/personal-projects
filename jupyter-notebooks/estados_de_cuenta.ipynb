{
 "cells": [
  {
   "cell_type": "code",
   "execution_count": 62,
   "metadata": {},
   "outputs": [],
   "source": [
    "\n",
    "import pandas as pd\n",
    "import os\n",
    "import configparser\n",
    "import datetime as dt"
   ]
  },
  {
   "cell_type": "code",
   "execution_count": 28,
   "metadata": {},
   "outputs": [],
   "source": [
    "config = configparser.ConfigParser()\n",
    "config.read('./Data/estados_de_cuenta/config.ini')\n",
    "data_address=config['DATA']['ADDRESS']\n"
   ]
  },
  {
   "cell_type": "code",
   "execution_count": 127,
   "metadata": {},
   "outputs": [],
   "source": [
    "card_type = 'dc' #cc for credit card, dc for debit card\n",
    "card_csv_files = [file_name for file_name in os.listdir(data_address+'/cards') if card_type in file_name]"
   ]
  },
  {
   "cell_type": "code",
   "execution_count": 136,
   "metadata": {},
   "outputs": [
    {
     "data": {
      "text/html": [
       "<div>\n",
       "<style scoped>\n",
       "    .dataframe tbody tr th:only-of-type {\n",
       "        vertical-align: middle;\n",
       "    }\n",
       "\n",
       "    .dataframe tbody tr th {\n",
       "        vertical-align: top;\n",
       "    }\n",
       "\n",
       "    .dataframe thead th {\n",
       "        text-align: right;\n",
       "    }\n",
       "</style>\n",
       "<table border=\"1\" class=\"dataframe\">\n",
       "  <thead>\n",
       "    <tr style=\"text-align: right;\">\n",
       "      <th></th>\n",
       "      <th>date</th>\n",
       "      <th>description</th>\n",
       "      <th>amount</th>\n",
       "    </tr>\n",
       "  </thead>\n",
       "  <tbody>\n",
       "    <tr>\n",
       "      <th>60</th>\n",
       "      <td>2024-07-01</td>\n",
       "      <td>ADO TEZIUTLAN                    0200624</td>\n",
       "      <td>216.00</td>\n",
       "    </tr>\n",
       "    <tr>\n",
       "      <th>61</th>\n",
       "      <td>2024-07-01</td>\n",
       "      <td>GASOLINA CARROS                  0190624</td>\n",
       "      <td>794.58</td>\n",
       "    </tr>\n",
       "    <tr>\n",
       "      <th>55</th>\n",
       "      <td>2024-07-01</td>\n",
       "      <td>CGO Clases y entrenamiento</td>\n",
       "      <td>-800.00</td>\n",
       "    </tr>\n",
       "    <tr>\n",
       "      <th>56</th>\n",
       "      <td>2024-07-01</td>\n",
       "      <td>PAGO DE TARJETA: 5470748018127633 EN BPI</td>\n",
       "      <td>-2500.00</td>\n",
       "    </tr>\n",
       "    <tr>\n",
       "      <th>59</th>\n",
       "      <td>2024-07-01</td>\n",
       "      <td>GASOLINA CAMIONETA               0220624</td>\n",
       "      <td>616.49</td>\n",
       "    </tr>\n",
       "    <tr>\n",
       "      <th>...</th>\n",
       "      <td>...</td>\n",
       "      <td>...</td>\n",
       "      <td>...</td>\n",
       "    </tr>\n",
       "    <tr>\n",
       "      <th>3</th>\n",
       "      <td>2024-10-14</td>\n",
       "      <td>GASOLINA 41024                   0241014</td>\n",
       "      <td>454.48</td>\n",
       "    </tr>\n",
       "    <tr>\n",
       "      <th>2</th>\n",
       "      <td>2024-10-14</td>\n",
       "      <td>GASOLINA 051024                  0241014</td>\n",
       "      <td>903.48</td>\n",
       "    </tr>\n",
       "    <tr>\n",
       "      <th>1</th>\n",
       "      <td>2024-10-14</td>\n",
       "      <td>INTERNET CASA                    0241014</td>\n",
       "      <td>600.00</td>\n",
       "    </tr>\n",
       "    <tr>\n",
       "      <th>17</th>\n",
       "      <td>2024-10-14</td>\n",
       "      <td>LC102 PIB 28734 04246PFA940043931293 14</td>\n",
       "      <td>-70.00</td>\n",
       "    </tr>\n",
       "    <tr>\n",
       "      <th>0</th>\n",
       "      <td>2024-10-15</td>\n",
       "      <td>RETIRO CAJERO 4213166157164942 20241015</td>\n",
       "      <td>-1500.00</td>\n",
       "    </tr>\n",
       "  </tbody>\n",
       "</table>\n",
       "<p>98 rows × 3 columns</p>\n",
       "</div>"
      ],
      "text/plain": [
       "         date                               description   amount\n",
       "60 2024-07-01  ADO TEZIUTLAN                    0200624   216.00\n",
       "61 2024-07-01  GASOLINA CARROS                  0190624   794.58\n",
       "55 2024-07-01                CGO Clases y entrenamiento  -800.00\n",
       "56 2024-07-01  PAGO DE TARJETA: 5470748018127633 EN BPI -2500.00\n",
       "59 2024-07-01  GASOLINA CAMIONETA               0220624   616.49\n",
       "..        ...                                       ...      ...\n",
       "3  2024-10-14  GASOLINA 41024                   0241014   454.48\n",
       "2  2024-10-14  GASOLINA 051024                  0241014   903.48\n",
       "1  2024-10-14  INTERNET CASA                    0241014   600.00\n",
       "17 2024-10-14   LC102 PIB 28734 04246PFA940043931293 14   -70.00\n",
       "0  2024-10-15   RETIRO CAJERO 4213166157164942 20241015 -1500.00\n",
       "\n",
       "[98 rows x 3 columns]"
      ]
     },
     "execution_count": 136,
     "metadata": {},
     "output_type": "execute_result"
    }
   ],
   "source": [
    "#CREDIT CARD USE ANALYSIS\n",
    "\n",
    "#Define columns names and type to use during csv import\n",
    "colums = {\"date\":str,\"description\":str,\"amount\":float}\n",
    "transactions_df = pd.DataFrame()\n",
    "#Create lambda function to import csv file. Input is file name\n",
    "import_csv_files = lambda card_file_name: pd.read_csv(f\"{data_address}/cards/{card_file_name}\",names=colums.keys(),thousands=',',dtype=colums)\n",
    "csv_dataframes = []\n",
    "for file in card_csv_files:\n",
    "    csv_dataframes.append(import_csv_files(file))\n",
    "card_transaction_history = pd.concat(csv_dataframes).drop_duplicates()\n",
    "#card_transaction_history = card_transaction_history[card_transaction_history[\"amount\"]>=0]\n",
    "card_transaction_history[\"date\"] = pd.to_datetime(card_transaction_history[\"date\"],format=\"%d/%m/%Y\")\n",
    "card_transaction_history.sort_values(by=\"date\")\n"
   ]
  },
  {
   "cell_type": "code",
   "execution_count": 145,
   "metadata": {},
   "outputs": [
    {
     "name": "stdout",
     "output_type": "stream",
     "text": [
      "         date                               description    amount\n",
      "21 2024-10-07  INSTRUYE IRVTUS3NXXX CAMPO 72 SI 0782145  10507.05\n",
      "20 2024-10-08  SERVICIO CAMIONETA               0309240   6500.00\n",
      "7  2024-10-14  COMIDA PAPAS VENA CAVA           0241014   1045.00\n",
      "14 2024-10-14  GASOLINA 040924                  0241014   1022.39\n",
      "2  2024-10-14  GASOLINA 051024                  0241014    903.48\n",
      "16 2024-10-14  GASOLINA 290824                  0241014    762.16\n",
      "9  2024-10-14  GASOLINA 170924                  0241014    716.58\n",
      "13 2024-10-14  COMIDA SUSHI                     0241014    633.00\n",
      "1  2024-10-14  INTERNET CASA                    0241014    600.00\n",
      "11 2024-10-14  GASOLINA 120924                  0241014    599.51\n",
      "5  2024-10-14  GASOLINA 280924                  0241014    589.11\n",
      "15 2024-10-14  GASOLINA 310824                  0241014    567.12\n",
      "6  2024-10-14  GASOLINA 260924                  0241014    554.70\n",
      "12 2024-10-14  INTERNET CASA                    0241014    550.00\n",
      "3  2024-10-14  GASOLINA 41024                   0241014    454.48\n",
      "4  2024-10-14  TELEFONO HILDA                   0241014    212.00\n",
      "18 2024-10-14  COMIDA                           0309240    205.00\n",
      "8  2024-10-14  TELEFONO HILDA                   0241014    196.00\n",
      "10 2024-10-14  CARNE LA VECINDAD                0241014    178.00\n",
      "17 2024-10-14   LC102 PIB 28734 04246PFA940043931293 14    -70.00\n",
      "22 2024-10-04         CGO Clases y entrenamiento Manuel   -800.00\n",
      "0  2024-10-15   RETIRO CAJERO 4213166157164942 20241015  -1500.00\n",
      "23 2024-10-02                    CGO Transferencia SPEI  -2300.00\n",
      "19 2024-10-08  PAGO DE TARJETA: 5470748018127633 EN BPI  -9571.78\n"
     ]
    },
    {
     "data": {
      "text/plain": [
       "12553.8"
      ]
     },
     "execution_count": 145,
     "metadata": {},
     "output_type": "execute_result"
    }
   ],
   "source": [
    "month_to_analyse = 10\n",
    "print(card_transaction_history[card_transaction_history['date'].dt.month == month_to_analyse].sort_values(by=\"amount\",ascending=False))\n",
    "sum(card_transaction_history[card_transaction_history['date'].dt.month == month_to_analyse].amount)"
   ]
  },
  {
   "cell_type": "code",
   "execution_count": null,
   "metadata": {},
   "outputs": [],
   "source": []
  },
  {
   "cell_type": "code",
   "execution_count": null,
   "metadata": {},
   "outputs": [],
   "source": []
  }
 ],
 "metadata": {
  "kernelspec": {
   "display_name": "Python 3",
   "language": "python",
   "name": "python3"
  },
  "language_info": {
   "codemirror_mode": {
    "name": "ipython",
    "version": 3
   },
   "file_extension": ".py",
   "mimetype": "text/x-python",
   "name": "python",
   "nbconvert_exporter": "python",
   "pygments_lexer": "ipython3",
   "version": "3.11.7"
  }
 },
 "nbformat": 4,
 "nbformat_minor": 2
}
