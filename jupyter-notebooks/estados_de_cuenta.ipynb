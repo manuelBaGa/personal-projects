{
 "cells": [
  {
   "cell_type": "code",
   "execution_count": 1,
   "metadata": {},
   "outputs": [],
   "source": [
    "from bs4 import BeautifulSoup\n",
    "import pandas as pd\n",
    "import os\n",
    "import configparser"
   ]
  },
  {
   "cell_type": "code",
   "execution_count": 3,
   "metadata": {},
   "outputs": [],
   "source": [
    "config = configparser.ConfigParser()\n",
    "config.read('./Data/estados_de_cuenta/config.ini')\n",
    "\n",
    "# Reading the data inside the xml\n",
    "# file to a variable under the name \n",
    "# data\n",
    "file_name='05_2024'\n",
    "data_address=config['DATA']['ADDRESS']\n",
    "\n",
    "with open(f'{data_address}/xml/{file_name}.xml', 'r') as f:\n",
    "    data = f.read()\n",
    "\n",
    "f.close()\n",
    "# Passing the stored data inside\n",
    "# the beautifulsoup parser, storing\n",
    "# the returned object \n",
    "Bs_data = BeautifulSoup(data, \"xml\")\n",
    " \n",
    "# Finding all instances of tag \n",
    "# `unique`\n",
    "b_unique = Bs_data.find_all('DG:MovimientosDelCliente')\n",
    " \n",
    "\n"
   ]
  },
  {
   "cell_type": "code",
   "execution_count": 4,
   "metadata": {},
   "outputs": [],
   "source": [
    "dict_form = lambda record: { \"fecha\" : record.get(\"fecha\"), \"descripcion\" : record.get(\"descripcion\") , \"importe\" : record.get(\"importe\"), \"ingreso\": -1}\n",
    "records_dict_list = [ dict_form(record) for record in b_unique ]"
   ]
  },
  {
   "cell_type": "code",
   "execution_count": 5,
   "metadata": {},
   "outputs": [
    {
     "name": "stdout",
     "output_type": "stream",
     "text": [
      "File already exist.\n"
     ]
    }
   ],
   "source": [
    "df = pd.DataFrame(records_dict_list)\n",
    "csv_file = f\"{data_address}/csv/{file_name}.csv\"\n",
    "if os.path.exists(csv_file):\n",
    "    print(\"File already exist.\")\n",
    "else:\n",
    "    df.to_csv(csv_file)\n",
    "month_data = pd.read_csv(csv_file)\n"
   ]
  },
  {
   "cell_type": "code",
   "execution_count": 6,
   "metadata": {},
   "outputs": [
    {
     "name": "stdout",
     "output_type": "stream",
     "text": [
      "Ingresos:  58177.47\n",
      "Egresos:  55443.52\n"
     ]
    }
   ],
   "source": [
    "total_money = lambda x: month_data[ month_data[\"ingreso\"] == x][\"importe\"].sum() \n",
    "ingresos = total_money(1)\n",
    "egresos = total_money(-1)\n",
    "print(\"Ingresos: \",ingresos)\n",
    "print(\"Egresos: \",egresos)"
   ]
  },
  {
   "cell_type": "code",
   "execution_count": 7,
   "metadata": {},
   "outputs": [
    {
     "data": {
      "text/html": [
       "<div>\n",
       "<style scoped>\n",
       "    .dataframe tbody tr th:only-of-type {\n",
       "        vertical-align: middle;\n",
       "    }\n",
       "\n",
       "    .dataframe tbody tr th {\n",
       "        vertical-align: top;\n",
       "    }\n",
       "\n",
       "    .dataframe thead th {\n",
       "        text-align: right;\n",
       "    }\n",
       "</style>\n",
       "<table border=\"1\" class=\"dataframe\">\n",
       "  <thead>\n",
       "    <tr style=\"text-align: right;\">\n",
       "      <th></th>\n",
       "      <th>Unnamed: 0</th>\n",
       "      <th>fecha</th>\n",
       "      <th>descripcion</th>\n",
       "      <th>importe</th>\n",
       "      <th>ingreso</th>\n",
       "    </tr>\n",
       "  </thead>\n",
       "  <tbody>\n",
       "    <tr>\n",
       "      <th>2</th>\n",
       "      <td>2</td>\n",
       "      <td>2024-05-06T12:00:00</td>\n",
       "      <td>INSTRUYE IRVTUS3NXXX CAMPO 72 SI 0611929</td>\n",
       "      <td>38549.50</td>\n",
       "      <td>1</td>\n",
       "    </tr>\n",
       "    <tr>\n",
       "      <th>14</th>\n",
       "      <td>14</td>\n",
       "      <td>2024-05-10T12:00:00</td>\n",
       "      <td>PARA NU 0271195</td>\n",
       "      <td>9568.06</td>\n",
       "      <td>1</td>\n",
       "    </tr>\n",
       "    <tr>\n",
       "      <th>24</th>\n",
       "      <td>24</td>\n",
       "      <td>2024-05-31T12:00:00</td>\n",
       "      <td>2700 EGRESOS SPEI SVD 5594424</td>\n",
       "      <td>7383.66</td>\n",
       "      <td>1</td>\n",
       "    </tr>\n",
       "    <tr>\n",
       "      <th>0</th>\n",
       "      <td>0</td>\n",
       "      <td>2024-05-03T12:00:00</td>\n",
       "      <td>FINSUS 0240503</td>\n",
       "      <td>2402.35</td>\n",
       "      <td>1</td>\n",
       "    </tr>\n",
       "    <tr>\n",
       "      <th>17</th>\n",
       "      <td>17</td>\n",
       "      <td>2024-05-13T12:00:00</td>\n",
       "      <td>74208474131000017927314SM NORD VPNCOMGB</td>\n",
       "      <td>273.90</td>\n",
       "      <td>1</td>\n",
       "    </tr>\n",
       "  </tbody>\n",
       "</table>\n",
       "</div>"
      ],
      "text/plain": [
       "    Unnamed: 0                fecha                               descripcion  \\\n",
       "2            2  2024-05-06T12:00:00  INSTRUYE IRVTUS3NXXX CAMPO 72 SI 0611929   \n",
       "14          14  2024-05-10T12:00:00                           PARA NU 0271195   \n",
       "24          24  2024-05-31T12:00:00             2700 EGRESOS SPEI SVD 5594424   \n",
       "0            0  2024-05-03T12:00:00                            FINSUS 0240503   \n",
       "17          17  2024-05-13T12:00:00   74208474131000017927314SM NORD VPNCOMGB   \n",
       "\n",
       "     importe  ingreso  \n",
       "2   38549.50        1  \n",
       "14   9568.06        1  \n",
       "24   7383.66        1  \n",
       "0    2402.35        1  \n",
       "17    273.90        1  "
      ]
     },
     "execution_count": 7,
     "metadata": {},
     "output_type": "execute_result"
    }
   ],
   "source": [
    "month_data[ month_data[\"ingreso\"] == 1].sort_values(\"importe\",ascending=False)"
   ]
  },
  {
   "cell_type": "code",
   "execution_count": null,
   "metadata": {},
   "outputs": [],
   "source": []
  }
 ],
 "metadata": {
  "kernelspec": {
   "display_name": "Python 3",
   "language": "python",
   "name": "python3"
  },
  "language_info": {
   "codemirror_mode": {
    "name": "ipython",
    "version": 3
   },
   "file_extension": ".py",
   "mimetype": "text/x-python",
   "name": "python",
   "nbconvert_exporter": "python",
   "pygments_lexer": "ipython3",
   "version": "3.11.7"
  }
 },
 "nbformat": 4,
 "nbformat_minor": 2
}
