{
 "cells": [
  {
   "cell_type": "code",
   "execution_count": 1,
   "id": "14fe7435-f513-4e5c-a8de-7cbe3f27d5f3",
   "metadata": {},
   "outputs": [],
   "source": [
    "import requests\n",
    "import pandas as pd\n",
    "import pickle\n",
    "from statistics import mean\n",
    "import os\n",
    "import json\n",
    "import yfinance as yf\n",
    "import matplotlib.pyplot as plt"
   ]
  },
  {
   "cell_type": "code",
   "execution_count": 2,
   "id": "14918feb-3c92-404b-9235-5bfb9c329ad4",
   "metadata": {},
   "outputs": [],
   "source": [
    "def apply_portafolio_theory(tickers_composition,dollar_price,interval,period):\n",
    "    tickers_statistics={}\n",
    "    total_invested=sum(x[1]*x[2] for x in  tickers_composition)            \n",
    "    earnings_df = pd.DataFrame()\n",
    "    portfolio_earning=0\n",
    "    for ticker,quantity,current_price in tickers_composition:\n",
    "        #Getting earnings usgin historicals per ticker \n",
    "        hist = yf.Ticker(ticker).history(period=period,interval=interval).dropna()\n",
    "        hist[\"earnings\"]=(hist.Close-hist.Open)*100/hist.Open\n",
    "        tickers_statistics[ticker]={ \\\n",
    "                                    \"earning\":hist.earnings.mean(),\\\n",
    "                                    \"risk\":hist.earnings.std(),\\\n",
    "                                    \"performance\":hist.earnings.mean()/hist.earnings.std(),\\\n",
    "                                    \"portfolio_percentage\":current_price*quantity/total_invested \\\n",
    "                                   }\n",
    "        earnings_df=pd.concat([earnings_df,hist[\"earnings\"]],axis = 1)\n",
    "        earnings_df.rename(columns = {'earnings':ticker}, inplace = True)\n",
    "        #Getting portfolio earning using earnings mean and portfolio percentage per ticker\n",
    "        portfolio_earning+=tickers_statistics[ticker]['earning']*tickers_statistics[ticker]['portfolio_percentage']\n",
    "\n",
    "    portfolio_risk=0\n",
    "    cov_matrix=(earnings_df).cov().values\n",
    "    \n",
    "    for x in range(len(earnings_df.cov().values)):\n",
    "        for y in range(len(earnings_df.cov().values[x])):\n",
    "            portfolio_risk+=(tickers_composition[x][1]*tickers_composition[x][2]/total_invested)*(tickers_composition[y][1]*tickers_composition[y][2]/total_invested)*cov_matrix[x][y]\n",
    "    portfolio_risk=portfolio_risk**(1/2)\n",
    "    portfolio_performance=portfolio_earning/portfolio_risk\n",
    "\n",
    "#    print(f\"Portfolio earnings per {interval}: {portfolio_earning} \\\n",
    "#            \\nPortfolio risk per {interval}: {portfolio_risk} \\\n",
    "#            \\nPortfolio performance: {portfolio_performance} \\\n",
    "#          \")\n",
    "    return portfolio_performance,portfolio_earning,portfolio_risk\n"
   ]
  },
  {
   "cell_type": "code",
   "execution_count": 3,
   "id": "a7c71979-04d3-4f43-8cf0-7821e86add14",
   "metadata": {},
   "outputs": [
    {
     "data": {
      "text/plain": [
       "(np.float64(0.22455128512599548),\n",
       " np.float64(1.7058279005821195),\n",
       " np.float64(7.596607160920862))"
      ]
     },
     "execution_count": 3,
     "metadata": {},
     "output_type": "execute_result"
    }
   ],
   "source": [
    "dollar_price=17.47\n",
    "tickers_composition= [(\"AAPL\",1), \\\n",
    "                     (\"AMZN\",7) , \\\n",
    "                     (\"GOOGL\",20)]\n",
    "ticker_and_price=[ (ticker[0],ticker[1], yf.Ticker(ticker[0]).history(period=\"1d\",interval=\"1d\").iloc[0]['Close']*dollar_price) for ticker in tickers_composition ]\n",
    "apply_portafolio_theory(ticker_and_price,dollar_price,\"1mo\",\"5y\")"
   ]
  },
  {
   "cell_type": "code",
   "execution_count": 6,
   "id": "d92430bf-6f4b-425a-a25a-47b957164a66",
   "metadata": {},
   "outputs": [],
   "source": [
    "##S&P500 List\n",
    "a='''\n",
    "VLO\n",
    "VTR\n",
    "TSLA\n",
    "'''"
   ]
  },
  {
   "cell_type": "code",
   "execution_count": 9,
   "id": "dc8ba2d9-19e2-4ee7-b6ee-042866e6f896",
   "metadata": {},
   "outputs": [
    {
     "name": "stdout",
     "output_type": "stream",
     "text": [
      "Using: VLO\n",
      "Using: VTR\n",
      "Using: TSLA\n",
      "-----FINISHED--------\n"
     ]
    }
   ],
   "source": [
    "results=[]\n",
    "try_tickers=a.split()\n",
    "dollar_price=20.16\n",
    "interval=\"1wk\"\n",
    "period=\"2y\"\n",
    "money_to_invest=8500.05\n",
    "tickers_composition=[(\"AAPL\",1),\n",
    "                     (\"AMZN\",7) ,\\\n",
    "                     (\"GOOGL\",20), \\\n",
    "                     (\"LLY\",1), \\\n",
    "                     (\"META\",1), \\\n",
    "                     (\"MSFT\",1), \\\n",
    "                     (\"NEE\",1), \\\n",
    "                     (\"PG\",1), \\\n",
    "                     (\"TMUS\",1), \\\n",
    "                     (\"TSLA\",1), \\\n",
    "                     (\"V\",1), \\\n",
    "                     (\"VOO\",1), \\\n",
    "                     (\"XLK\",1)#, \\\n",
    "                     \n",
    "]\n",
    "ticker_and_price=[ (ticker[0],ticker[1], yf.Ticker(ticker[0]).history(period=\"1d\",interval=\"1d\").iloc[0]['Close']*dollar_price) for ticker in tickers_composition ]\n",
    "\n",
    "for ticker in try_tickers:\n",
    "    try:\n",
    "        print(\"Using: \"+ticker)\n",
    "        ticker_candidate_price=yf.Ticker(ticker).history(period=\"1d\",interval=\"1d\").iloc[0]['Close']*dollar_price\n",
    "        if ticker_candidate_price > money_to_invest:\n",
    "            print(ticker+\" is to expensive. Moving to next one\")\n",
    "            continue\n",
    "        else:\n",
    "            ticker_and_price.append((ticker, 1,ticker_candidate_price))\n",
    "            p_perf,p_earn,p_risk=apply_portafolio_theory(ticker_and_price,dollar_price,interval,period)\n",
    "            results.append((ticker,p_perf,p_earn,p_risk)) \n",
    "            ticker_and_price.pop()\n",
    "    except :\n",
    "        print (\"Failed with: \"+ticker)\n",
    "        ticker_and_price.pop()\n",
    "print(\"-----FINISHED--------\")"
   ]
  },
  {
   "cell_type": "code",
   "execution_count": 26,
   "id": "1ea8c83e-edd5-406e-9a76-e6a832704235",
   "metadata": {},
   "outputs": [
    {
     "data": {
      "text/html": [
       "<div>\n",
       "<style scoped>\n",
       "    .dataframe tbody tr th:only-of-type {\n",
       "        vertical-align: middle;\n",
       "    }\n",
       "\n",
       "    .dataframe tbody tr th {\n",
       "        vertical-align: top;\n",
       "    }\n",
       "\n",
       "    .dataframe thead th {\n",
       "        text-align: right;\n",
       "    }\n",
       "</style>\n",
       "<table border=\"1\" class=\"dataframe\">\n",
       "  <thead>\n",
       "    <tr style=\"text-align: right;\">\n",
       "      <th></th>\n",
       "      <th>0</th>\n",
       "      <th>1</th>\n",
       "      <th>2</th>\n",
       "      <th>3</th>\n",
       "    </tr>\n",
       "  </thead>\n",
       "  <tbody>\n",
       "    <tr>\n",
       "      <th>1</th>\n",
       "      <td>VTR</td>\n",
       "      <td>0.176356</td>\n",
       "      <td>0.522565</td>\n",
       "      <td>2.963131</td>\n",
       "    </tr>\n",
       "    <tr>\n",
       "      <th>2</th>\n",
       "      <td>VRSN</td>\n",
       "      <td>0.176207</td>\n",
       "      <td>0.517707</td>\n",
       "      <td>2.938053</td>\n",
       "    </tr>\n",
       "    <tr>\n",
       "      <th>0</th>\n",
       "      <td>VLO</td>\n",
       "      <td>0.175981</td>\n",
       "      <td>0.518587</td>\n",
       "      <td>2.946826</td>\n",
       "    </tr>\n",
       "  </tbody>\n",
       "</table>\n",
       "</div>"
      ],
      "text/plain": [
       "      0         1         2         3\n",
       "1   VTR  0.176356  0.522565  2.963131\n",
       "2  VRSN  0.176207  0.517707  2.938053\n",
       "0   VLO  0.175981  0.518587  2.946826"
      ]
     },
     "execution_count": 26,
     "metadata": {},
     "output_type": "execute_result"
    }
   ],
   "source": [
    "pd.DataFrame(results).sort_values(by=[1],ascending=False).head()"
   ]
  },
  {
   "cell_type": "code",
   "execution_count": 114,
   "id": "cf502c08-fb29-43da-ab5a-46dd0b5d378c",
   "metadata": {},
   "outputs": [
    {
     "name": "stdout",
     "output_type": "stream",
     "text": [
      "(0.15855428460132498, 0.4671408000647136, 2.94625150773636)\n"
     ]
    },
    {
     "data": {
      "text/plain": [
       "('CHKEW', 1, 'NA', 10000)"
      ]
     },
     "execution_count": 114,
     "metadata": {},
     "output_type": "execute_result"
    }
   ],
   "source": [
    "look_details=('CHKEW', 1, 'NA', 10000)\n",
    "tickers_composition.append(look_details)\n",
    "print(apply_portafolio_theory(tickers_composition))\n",
    "tickers_composition.pop()"
   ]
  },
  {
   "cell_type": "code",
   "execution_count": 19,
   "id": "4fa60b92-5b98-41d6-bd7b-a5995523a643",
   "metadata": {},
   "outputs": [
    {
     "data": {
      "text/plain": [
       "[('AAPL', 1, 3163.9811686706544),\n",
       " ('AMZN', 7, 2147.1338634490967),\n",
       " ('GOOGL', 20, 2113.5982791137694),\n",
       " ('LLY', 1, 7660.317953796386),\n",
       " ('META', 1, 4807.91),\n",
       " ('MSFT', 1, 5857.266070251465),\n",
       " ('NEE', 1, 1293.3448373413084),\n",
       " ('PG', 1, 2558.629285125732),\n",
       " ('TMUS', 1, 2240.212174682617),\n",
       " ('TSLA', 1, 4457.839546203613),\n",
       " ('V', 1, 3916.6501626586914),\n",
       " ('VOO', 1, 6933.827499999999),\n",
       " ('XLK', 1, 2963.2809417724607)]"
      ]
     },
     "execution_count": 19,
     "metadata": {},
     "output_type": "execute_result"
    }
   ],
   "source": [
    "ticker_and_price"
   ]
  },
  {
   "cell_type": "code",
   "execution_count": null,
   "id": "4147082a-ba05-49c8-b440-eb2ac1699a0f",
   "metadata": {},
   "outputs": [],
   "source": []
  }
 ],
 "metadata": {
  "kernelspec": {
   "display_name": "Python 3 (ipykernel)",
   "language": "python",
   "name": "python3"
  },
  "language_info": {
   "codemirror_mode": {
    "name": "ipython",
    "version": 3
   },
   "file_extension": ".py",
   "mimetype": "text/x-python",
   "name": "python",
   "nbconvert_exporter": "python",
   "pygments_lexer": "ipython3",
   "version": "3.13.0"
  }
 },
 "nbformat": 4,
 "nbformat_minor": 5
}
